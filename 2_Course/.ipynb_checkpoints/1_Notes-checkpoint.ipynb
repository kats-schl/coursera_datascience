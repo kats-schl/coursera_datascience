{
 "cells": [
  {
   "cell_type": "markdown",
   "id": "9f55eff8",
   "metadata": {},
   "source": [
    "# Notes and skripts from Week 1"
   ]
  },
  {
   "cell_type": "markdown",
   "id": "c780f8a2",
   "metadata": {},
   "source": [
    "Interesting article on \"junk\" in data visualization:\n",
    "https://www.researchgate.net/publication/221517808_Useful_Junk_The_effects_of_visual_embellishment_on_comprehension_and_memorability_of_charts\n"
   ]
  },
  {
   "cell_type": "markdown",
   "id": "7ec45add",
   "metadata": {},
   "source": [
    "## Notes on \"Graphic Lies, Misleading Visuals - Reflections on the Challenges and Pitfalls of Evidence-Driven Visual Communication\"\n",
    "\n",
    "\n",
    "#### General ideas\n",
    "* The Lie Factor (by Edward Tufte) is Size of effect shown in the graphic/ Size of effect in data. The closer it is to 1.0, the more accurate the graphic is. \n",
    "* There's the part of the designer (encoder) and the reader (decoder).\n",
    "\n",
    "#### 1 Becoming a good liar\n",
    "* Hiding relevant data to highlight what benefits us: e.g. infographics since they are almost always a form of marketing. Often the displayed data is in the form of cherry-picked statistics. \n",
    "* Displaying too much data to obscure reality\n",
    "* Using graphic forms in inapproporiate ways (distorting the data): the most common way to \"lie\" with graphics; e.g. often used in corrupt countries. Examples: manipulating the axises or using bars with inappropiate differences in size compared to the data\n",
    "\n",
    "#### 2 The ignorance of evidence-driven communicators\n",
    "* Problem: journalists and information designers arent seriously trained in scientific methods, research techniques and data.\n",
    "\n",
    "#### 3 Conclusion\n",
    "* Visual lies are an inevitable side effect of freedom of expression and will therefort never vanish. But we should better prepare future generations of evidence-driven visual communicators and also readers."
   ]
  },
  {
   "cell_type": "code",
   "execution_count": null,
   "id": "8c267a22",
   "metadata": {},
   "outputs": [],
   "source": []
  }
 ],
 "metadata": {
  "kernelspec": {
   "display_name": "Python 3",
   "language": "python",
   "name": "python3"
  },
  "language_info": {
   "codemirror_mode": {
    "name": "ipython",
    "version": 3
   },
   "file_extension": ".py",
   "mimetype": "text/x-python",
   "name": "python",
   "nbconvert_exporter": "python",
   "pygments_lexer": "ipython3",
   "version": "3.6.9"
  }
 },
 "nbformat": 4,
 "nbformat_minor": 5
}
