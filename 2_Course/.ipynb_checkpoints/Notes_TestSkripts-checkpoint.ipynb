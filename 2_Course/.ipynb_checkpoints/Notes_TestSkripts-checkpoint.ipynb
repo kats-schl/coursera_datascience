{
 "cells": [
  {
   "cell_type": "markdown",
   "id": "9f55eff8",
   "metadata": {},
   "source": [
    "#### Skripts to test and try stuff from Coursera"
   ]
  },
  {
   "cell_type": "code",
   "execution_count": 1,
   "id": "c7ebfd5c",
   "metadata": {},
   "outputs": [
    {
     "name": "stdout",
     "output_type": "stream",
     "text": [
      "7\n"
     ]
    }
   ],
   "source": [
    "a = 3\n",
    "b = 4\n",
    "c = a + b\n",
    "print(c)\n"
   ]
  },
  {
   "cell_type": "code",
   "execution_count": null,
   "id": "85d3fbcc",
   "metadata": {},
   "outputs": [],
   "source": []
  }
 ],
 "metadata": {
  "kernelspec": {
   "display_name": "Python 3",
   "language": "python",
   "name": "python3"
  },
  "language_info": {
   "codemirror_mode": {
    "name": "ipython",
    "version": 3
   },
   "file_extension": ".py",
   "mimetype": "text/x-python",
   "name": "python",
   "nbconvert_exporter": "python",
   "pygments_lexer": "ipython3",
   "version": "3.6.9"
  }
 },
 "nbformat": 4,
 "nbformat_minor": 5
}
