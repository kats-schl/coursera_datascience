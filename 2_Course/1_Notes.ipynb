{
 "cells": [
  {
   "cell_type": "markdown",
   "id": "9f55eff8",
   "metadata": {},
   "source": [
    "#### Notes and skripts from Week 1"
   ]
  },
  {
   "cell_type": "markdown",
   "id": "c780f8a2",
   "metadata": {},
   "source": [
    "Interesting article on \"junk\" in data visualization:\n",
    "https://www.researchgate.net/publication/221517808_Useful_Junk_The_effects_of_visual_embellishment_on_comprehension_and_memorability_of_charts\n"
   ]
  },
  {
   "cell_type": "code",
   "execution_count": null,
   "id": "85d3fbcc",
   "metadata": {},
   "outputs": [],
   "source": []
  }
 ],
 "metadata": {
  "kernelspec": {
   "display_name": "Python 3",
   "language": "python",
   "name": "python3"
  },
  "language_info": {
   "codemirror_mode": {
    "name": "ipython",
    "version": 3
   },
   "file_extension": ".py",
   "mimetype": "text/x-python",
   "name": "python",
   "nbconvert_exporter": "python",
   "pygments_lexer": "ipython3",
   "version": "3.6.9"
  }
 },
 "nbformat": 4,
 "nbformat_minor": 5
}
